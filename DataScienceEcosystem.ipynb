{
 "cells": [
  {
   "cell_type": "markdown",
   "id": "d54ac6b0",
   "metadata": {},
   "source": [
    "# Data Science Tools and Ecosystem"
   ]
  },
  {
   "cell_type": "markdown",
   "id": "5ddaba31",
   "metadata": {},
   "source": [
    "In this notebook, Data Science Tools and Ecosystem are summarized."
   ]
  },
  {
   "cell_type": "markdown",
   "id": "2f39a1a0",
   "metadata": {},
   "source": [
    "**Objectives**\n",
    "\n",
    "list of popular tools used by Data Science\n",
    "- Ruby\n",
    "- Java\n",
    "- Python\n",
    "- C++\n",
    "- SQL\n",
    "- Julia"
   ]
  },
  {
   "cell_type": "markdown",
   "id": "650121e8",
   "metadata": {},
   "source": [
    "Some of the popular languages that Data Scientist use are:\n",
    "1. Python\n",
    "2. Java\n",
    "3. SQL\n",
    "4. C++"
   ]
  },
  {
   "cell_type": "markdown",
   "id": "9cdcdc8c",
   "metadata": {},
   "source": [
    "Some of the commonly used libraries used by Data Scientists include:\n",
    "1. Pandas\n",
    "2. Numpy\n",
    "3. Pytorch\n",
    "4. Tensorflow\n",
    "5. Scipy\n",
    "6. Plotly"
   ]
  },
  {
   "cell_type": "markdown",
   "id": "1d814969",
   "metadata": {},
   "source": [
    "| Data Science Tools |         |          |            |\n",
    "|--------------------|---------|----------|------------|\n",
    "| Hadoop   | Rstudio | Jupyter Notebook  | Apache Spark|"
   ]
  },
  {
   "cell_type": "markdown",
   "id": "1b523373",
   "metadata": {},
   "source": [
    "### Below are few examples of evaluating arithmetics expressions in Python"
   ]
  },
  {
   "cell_type": "code",
   "execution_count": 1,
   "id": "56ad5de9",
   "metadata": {},
   "outputs": [
    {
     "data": {
      "text/plain": [
       "17"
      ]
     },
     "execution_count": 1,
     "metadata": {},
     "output_type": "execute_result"
    }
   ],
   "source": [
    "(3*4)+5"
   ]
  },
  {
   "cell_type": "code",
   "execution_count": 3,
   "id": "fd3a6d40",
   "metadata": {},
   "outputs": [
    {
     "data": {
      "text/plain": [
       "3.3333333333333335"
      ]
     },
     "execution_count": 3,
     "metadata": {},
     "output_type": "execute_result"
    }
   ],
   "source": [
    "# We use a division operator in converting 200 minute to hours by dividing 200 by 60\n",
    "200/60"
   ]
  },
  {
   "cell_type": "markdown",
   "id": "0753f636",
   "metadata": {},
   "source": [
    "## Author.\n",
    "KUNLE ADEYEMI"
   ]
  },
  {
   "cell_type": "code",
   "execution_count": null,
   "id": "b5015ead",
   "metadata": {},
   "outputs": [],
   "source": []
  }
 ],
 "metadata": {
  "kernelspec": {
   "display_name": "Python 3 (ipykernel)",
   "language": "python",
   "name": "python3"
  },
  "language_info": {
   "codemirror_mode": {
    "name": "ipython",
    "version": 3
   },
   "file_extension": ".py",
   "mimetype": "text/x-python",
   "name": "python",
   "nbconvert_exporter": "python",
   "pygments_lexer": "ipython3",
   "version": "3.10.11"
  }
 },
 "nbformat": 4,
 "nbformat_minor": 5
}
