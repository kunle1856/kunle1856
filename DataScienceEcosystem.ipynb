{
 "cells": [
  {
   "cell_type": "markdown",
   "id": "bc5e1a85",
   "metadata": {},
   "source": [
    "# Data Science Tools and Ecosystem"
   ]
  },
  {
   "cell_type": "markdown",
   "id": "355b43c4",
   "metadata": {},
   "source": [
    "In this notebook, Data Science Tools and Ecosystem are summarized."
   ]
  },
  {
   "cell_type": "markdown",
   "id": "6d5548a2",
   "metadata": {},
   "source": [
    "**Objectives**\n",
    "- Java\n",
    "- Julia\n",
    "- Python\n",
    "- C++\n",
    "- SQL"
   ]
  },
  {
   "cell_type": "markdown",
   "id": "9d9379bf",
   "metadata": {},
   "source": [
    "Some of the popular languages that Data Sciencetist uses are.\n",
    "1. Python\n",
    "2. Java\n",
    "3. C++    \n",
    "4. Ruby\n",
    "5. Julia\n",
    "6. SQL"
   ]
  },
  {
   "cell_type": "markdown",
   "id": "9c76b60a",
   "metadata": {},
   "source": [
    "Commonly used Libraries used by Data Sciencetist include:\n",
    "1. Pandas\n",
    "2. Numpy\n",
    "3. Scipy\n",
    "4. Pytorch\n",
    "5. Tensorflow\n",
    "6. Seaborn\n",
    "7. Scikit-learn\n",
    "8. Scrapy\n",
    "9. Matplotlib\n",
    "10. Plotly"
   ]
  },
  {
   "cell_type": "markdown",
   "id": "a6d98f30",
   "metadata": {},
   "source": [
    "|Data Science Tools |           |           |        |     \n",
    "|-------------------|----------|-----------------|-----------\n",
    "|Rstudio |   Apache Spark | Hadoop |"
   ]
  },
  {
   "cell_type": "markdown",
   "id": "bd637233",
   "metadata": {},
   "source": [
    "### Below are a few examples of evaluating arithmetics expressions in python"
   ]
  },
  {
   "cell_type": "code",
   "execution_count": 1,
   "id": "a0e6d94b",
   "metadata": {},
   "outputs": [
    {
     "data": {
      "text/plain": [
       "17"
      ]
     },
     "execution_count": 1,
     "metadata": {},
     "output_type": "execute_result"
    }
   ],
   "source": [
    "(3*4)+5"
   ]
  },
  {
   "cell_type": "code",
   "execution_count": 3,
   "id": "4e3fe566",
   "metadata": {},
   "outputs": [
    {
     "data": {
      "text/plain": [
       "3.3333333333333335"
      ]
     },
     "execution_count": 3,
     "metadata": {},
     "output_type": "execute_result"
    }
   ],
   "source": [
    "# we use division operation to convert minutes to hour i.e xminutes/60\n",
    "200/60"
   ]
  },
  {
   "cell_type": "markdown",
   "id": "c6499894",
   "metadata": {},
   "source": [
    "## Author\n",
    "Kunle Adeyemi"
   ]
  },
  {
   "cell_type": "code",
   "execution_count": null,
   "id": "4e8c9ea4",
   "metadata": {},
   "outputs": [],
   "source": []
  },
  {
   "cell_type": "code",
   "execution_count": null,
   "id": "6b98bab5",
   "metadata": {},
   "outputs": [],
   "source": []
  },
  {
   "cell_type": "code",
   "execution_count": null,
   "id": "e89f2bf9",
   "metadata": {},
   "outputs": [],
   "source": []
  }
 ],
 "metadata": {
  "kernelspec": {
   "display_name": "Python 3 (ipykernel)",
   "language": "python",
   "name": "python3"
  },
  "language_info": {
   "codemirror_mode": {
    "name": "ipython",
    "version": 3
   },
   "file_extension": ".py",
   "mimetype": "text/x-python",
   "name": "python",
   "nbconvert_exporter": "python",
   "pygments_lexer": "ipython3",
   "version": "3.10.11"
  }
 },
 "nbformat": 4,
 "nbformat_minor": 5
}
